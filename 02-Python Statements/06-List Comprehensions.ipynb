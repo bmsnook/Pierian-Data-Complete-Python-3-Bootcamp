{
 "cells": [
  {
   "cell_type": "markdown",
   "metadata": {},
   "source": [
    "# List Comprehensions\n",
    "\n",
    "In addition to sequence operations and list methods, Python includes a more advanced operation called a list comprehension.\n",
    "\n",
    "List comprehensions allow us to build out lists using a different notation. You can think of it as essentially a one line <code>for</code> loop built inside of brackets. For a simple example:\n",
    "## Example 1"
   ]
  },
  {
   "cell_type": "code",
   "execution_count": 1,
   "metadata": {},
   "outputs": [],
   "source": [
    "# Grab every letter in string\n",
    "lst = [x for x in 'word']"
   ]
  },
  {
   "cell_type": "code",
   "execution_count": 2,
   "metadata": {},
   "outputs": [
    {
     "data": {
      "text/plain": [
       "['w', 'o', 'r', 'd']"
      ]
     },
     "execution_count": 2,
     "metadata": {},
     "output_type": "execute_result"
    }
   ],
   "source": [
    "# Check\n",
    "lst"
   ]
  },
  {
   "cell_type": "markdown",
   "metadata": {},
   "source": [
    "This is the basic idea of a list comprehension. If you're familiar with mathematical notation this format should feel familiar for example: x^2 : x in { 0,1,2...10 } \n",
    "\n",
    "Let's see a few more examples of list comprehensions in Python:\n",
    "## Example 2"
   ]
  },
  {
   "cell_type": "code",
   "execution_count": 6,
   "metadata": {},
   "outputs": [],
   "source": [
    "# Square numbers in range and turn into list\n",
    "lst = [x**2 for x in range(0,13)]"
   ]
  },
  {
   "cell_type": "code",
   "execution_count": 7,
   "metadata": {},
   "outputs": [
    {
     "data": {
      "text/plain": [
       "[0, 1, 4, 9, 16, 25, 36, 49, 64, 81, 100, 121, 144]"
      ]
     },
     "execution_count": 7,
     "metadata": {},
     "output_type": "execute_result"
    }
   ],
   "source": [
    "lst"
   ]
  },
  {
   "cell_type": "markdown",
   "metadata": {},
   "source": [
    "## Example 3\n",
    "Let's see how to add in <code>if</code> statements:"
   ]
  },
  {
   "cell_type": "code",
   "execution_count": 10,
   "metadata": {},
   "outputs": [],
   "source": [
    "# Check for even numbers in a range\n",
    "lst = [x for x in range(11) if x % 2 == 0]\n",
    "lst3 = [x for x in range(94) if x % 3 == 0]"
   ]
  },
  {
   "cell_type": "code",
   "execution_count": 18,
   "metadata": {},
   "outputs": [
    {
     "name": "stdout",
     "output_type": "stream",
     "text": [
      "[0, 2, 4, 6, 8, 10]\n",
      "[0, 3, 6, 9, 12, 15, 18, 21, 24, 27, 30, 33, 36, 39, 42, 45, 48, 51, 54, 57, 60, 63, 66, 69, 72, 75, 78, 81, 84, 87, 90, 93]\n",
      "\n"
     ]
    }
   ],
   "source": [
    "print(f\"{lst}\\n{lst3}\\n\")"
   ]
  },
  {
   "cell_type": "markdown",
   "metadata": {},
   "source": [
    "## Example 4\n",
    "Can also do more complicated arithmetic:"
   ]
  },
  {
   "cell_type": "code",
   "execution_count": 19,
   "metadata": {},
   "outputs": [
    {
     "data": {
      "text/plain": [
       "[32.0, 50.0, 68.18, 94.1]"
      ]
     },
     "execution_count": 19,
     "metadata": {},
     "output_type": "execute_result"
    }
   ],
   "source": [
    "# Convert Celsius to Fahrenheit\n",
    "celsius = [0,10,20.1,34.5]\n",
    "\n",
    "fahrenheit = [((9/5)*temp + 32) for temp in celsius ]\n",
    "\n",
    "fahrenheit"
   ]
  },
  {
   "cell_type": "markdown",
   "metadata": {},
   "source": [
    "## Example 5\n",
    "We can also perform nested list comprehensions, for example:"
   ]
  },
  {
   "cell_type": "code",
   "execution_count": 21,
   "metadata": {},
   "outputs": [
    {
     "data": {
      "text/plain": [
       "[0,\n",
       " 1,\n",
       " 16,\n",
       " 81,\n",
       " 256,\n",
       " 625,\n",
       " 1296,\n",
       " 2401,\n",
       " 4096,\n",
       " 6561,\n",
       " 10000,\n",
       " 14641,\n",
       " 20736,\n",
       " 28561,\n",
       " 38416,\n",
       " 50625,\n",
       " 65536]"
      ]
     },
     "execution_count": 21,
     "metadata": {},
     "output_type": "execute_result"
    }
   ],
   "source": [
    "lst = [ x**2 for x in [x**2 for x in range(17)]]\n",
    "lst"
   ]
  },
  {
   "cell_type": "markdown",
   "metadata": {},
   "source": [
    "Later on in the course we will learn about generator comprehensions. After this lecture you should feel comfortable reading and writing basic list comprehensions."
   ]
  },
  {
   "cell_type": "code",
   "execution_count": 2,
   "metadata": {},
   "outputs": [
    {
     "name": "stdout",
     "output_type": "stream",
     "text": [
      "  0.00 <=> -17.78\n",
      " 32.00 <=>   0.00\n",
      " 45.00 <=>   7.22\n",
      " 50.00 <=>  10.00\n",
      " 60.00 <=>  15.56\n",
      " 65.00 <=>  18.33\n",
      " 67.00 <=>  19.44\n",
      " 74.00 <=>  23.33\n",
      " 80.00 <=>  26.67\n",
      " 90.00 <=>  32.22\n",
      " 95.00 <=>  35.00\n",
      " 97.80 <=>  36.56\n",
      " 98.60 <=>  37.00\n",
      "100.00 <=>  37.78\n",
      "212.00 <=> 100.00\n",
      "350.00 <=> 176.67\n",
      "400.00 <=> 204.44\n",
      "450.00 <=> 232.22\n",
      "500.00 <=> 260.00\n"
     ]
    }
   ],
   "source": [
    "df = [0, 32, 45, 50, 60, 65, 67, 74, 80, 90, 95, 97.8, 98.6, 100, 212, 350, 400, 450, 500]\n",
    "for pair in zip(ndf, ((x-32)*5/9 for x in df)):\n",
    "    print(f'{pair[0]:>6.2f} <=> {pair[1]:>6.2f}')"
   ]
  },
  {
   "cell_type": "code",
   "execution_count": 4,
   "metadata": {},
   "outputs": [
    {
     "name": "stdout",
     "output_type": "stream",
     "text": [
      "  0.00 <=>  32.00\n",
      " 10.00 <=>  50.00\n",
      " 20.00 <=>  68.00\n",
      " 30.00 <=>  86.00\n",
      " 40.00 <=> 104.00\n",
      " 50.00 <=> 122.00\n",
      " 60.00 <=> 140.00\n",
      " 70.00 <=> 158.00\n",
      " 80.00 <=> 176.00\n",
      " 90.00 <=> 194.00\n",
      "100.00 <=> 212.00\n"
     ]
    }
   ],
   "source": [
    "for pair in zip(range(0,110,10),((9/5)*x+32 for x in range(0,110,10))):\n",
    "    print(f'{pair[0]:>6.2f} <=> {pair[1]:>6.2f}')"
   ]
  },
  {
   "cell_type": "code",
   "execution_count": 6,
   "metadata": {},
   "outputs": [
    {
     "name": "stdout",
     "output_type": "stream",
     "text": [
      " 10.00 <=>  50.00\n",
      " 12.00 <=>  53.60\n",
      " 14.00 <=>  57.20\n",
      " 16.00 <=>  60.80\n",
      " 18.00 <=>  64.40\n",
      " 20.00 <=>  68.00\n",
      " 22.00 <=>  71.60\n",
      " 24.00 <=>  75.20\n",
      " 26.00 <=>  78.80\n",
      " 28.00 <=>  82.40\n",
      " 30.00 <=>  86.00\n",
      " 32.00 <=>  89.60\n",
      " 34.00 <=>  93.20\n",
      " 36.00 <=>  96.80\n",
      " 38.00 <=> 100.40\n",
      " 40.00 <=> 104.00\n"
     ]
    }
   ],
   "source": [
    "for cel,fah in zip(range(10,42,2),((9/5)*x+32 for x in range(10,42,2))):\n",
    "    print(f'{cel:>6.2f} <=> {fah:>6.2f}')"
   ]
  },
  {
   "cell_type": "code",
   "execution_count": 7,
   "metadata": {},
   "outputs": [
    {
     "data": {
      "text/plain": [
       "[20, 200, 2000, 40, 400, 4000, 60, 600, 6000]"
      ]
     },
     "execution_count": 7,
     "metadata": {},
     "output_type": "execute_result"
    }
   ],
   "source": [
    "mylist = [x*y for x in [2,4,6] for y in [10,100,1000]]\n",
    "mylist"
   ]
  }
 ],
 "metadata": {
  "kernelspec": {
   "display_name": "Python 3 (ipykernel)",
   "language": "python",
   "name": "python3"
  },
  "language_info": {
   "codemirror_mode": {
    "name": "ipython",
    "version": 3
   },
   "file_extension": ".py",
   "mimetype": "text/x-python",
   "name": "python",
   "nbconvert_exporter": "python",
   "pygments_lexer": "ipython3",
   "version": "3.8.2"
  }
 },
 "nbformat": 4,
 "nbformat_minor": 4
}
